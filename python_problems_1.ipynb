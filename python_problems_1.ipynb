{
  "nbformat": 4,
  "nbformat_minor": 0,
  "metadata": {
    "colab": {
      "name": "python_problems_1.ipynb",
      "provenance": [],
      "authorship_tag": "ABX9TyNgtF509DstePtoJxHZuend",
      "include_colab_link": true
    },
    "kernelspec": {
      "name": "python3",
      "display_name": "Python 3"
    },
    "language_info": {
      "name": "python"
    }
  },
  "cells": [
    {
      "cell_type": "markdown",
      "metadata": {
        "id": "view-in-github",
        "colab_type": "text"
      },
      "source": [
        "<a href=\"https://colab.research.google.com/github/Ritu-95/python_code/blob/main/python_problems_1.ipynb\" target=\"_parent\"><img src=\"https://colab.research.google.com/assets/colab-badge.svg\" alt=\"Open In Colab\"/></a>"
      ]
    },
    {
      "cell_type": "code",
      "execution_count": null,
      "metadata": {
        "id": "xbpqJ0PZioat"
      },
      "outputs": [],
      "source": [
        "import math"
      ]
    },
    {
      "cell_type": "code",
      "source": [
        ""
      ],
      "metadata": {
        "id": "unHhfSJhnlS2"
      },
      "execution_count": null,
      "outputs": []
    },
    {
      "cell_type": "code",
      "source": [
        "#  input quadratic equation variablea a.b.c\n",
        "\n",
        "a = float(input(\"a:\"))\n",
        "b = float(input(\"b:\"))\n",
        "c = float(input(\"b:\"))\n",
        "\n",
        "delta = math.pow(b,2)-(4*a*c)\n",
        "\n",
        "if delta > 0:\n",
        "  # no. of roots are 2\n",
        "  x = (((-b) + math.sqrt(delta))/(2*a))\n",
        "  x1 = (((-b) - math.sqrt(delta))/(2*a))\n",
        "  print(\"There are two roots : %f and %f\" % (x,x1))\n",
        "elif delta == 0:\n",
        "  x = (-b)/(2*a)\n",
        "  print (\"there is only one root : \", x)\n",
        "else:\n",
        "  # number of roots 0 , imaginary\n",
        "  print(\"No roots , delta <0 \")  \n",
        "\n",
        "  \n",
        "\n",
        "   \n",
        "  "
      ],
      "metadata": {
        "id": "cnsXUwjrcNY4",
        "colab": {
          "base_uri": "https://localhost:8080/"
        },
        "outputId": "4103b5e9-d7c4-4358-89ff-be230366f98b"
      },
      "execution_count": null,
      "outputs": [
        {
          "output_type": "stream",
          "name": "stdout",
          "text": [
            "a:2\n",
            "b:5\n",
            "b:1\n",
            "There are two roots : -0.219224 and -2.280776\n"
          ]
        }
      ]
    },
    {
      "cell_type": "code",
      "source": [
        ""
      ],
      "metadata": {
        "id": "BATLt3NFnmwJ"
      },
      "execution_count": null,
      "outputs": []
    },
    {
      "cell_type": "code",
      "source": [
        "from math import sqrt"
      ],
      "metadata": {
        "id": "FOQMFi9sYDWU"
      },
      "execution_count": null,
      "outputs": []
    },
    {
      "cell_type": "code",
      "source": [
        ""
      ],
      "metadata": {
        "id": "y1iW3tcQnxuL"
      },
      "execution_count": null,
      "outputs": []
    },
    {
      "cell_type": "code",
      "source": [
        "#  input quadratic equation variablea a.b.c\n",
        "\n",
        "a = float(input(\"a:\"))\n",
        "b = float(input(\"b:\"))\n",
        "c = float(input(\"b:\"))\n",
        "\n",
        "delta = math.pow(b,2)-(4*a*c)\n",
        "\n",
        "if delta > 0:\n",
        "  # no. of roots are 2\n",
        "  x = (((-b) + math.sqrt(delta))/(2*a))\n",
        "  x1 = (((-b) - math.sqrt(delta))/(2*a))\n",
        "  print(\"There are two roots : %f and %f\" % (x,x1))\n",
        "elif delta == 0:\n",
        "  x = (-b)/(2*a)\n",
        "  print (\"there is only one root : \", x)\n",
        "else:\n",
        "  # number of roots 0 , imaginary\n",
        "  print(\"No roots , delta <0 \")  \n",
        "\n",
        "  \n",
        "\n",
        "   \n",
        "  "
      ],
      "metadata": {
        "colab": {
          "base_uri": "https://localhost:8080/"
        },
        "outputId": "4103b5e9-d7c4-4358-89ff-be230366f98b",
        "id": "x8Qz0Q2gnzeq"
      },
      "execution_count": null,
      "outputs": [
        {
          "output_type": "stream",
          "name": "stdout",
          "text": [
            "a:2\n",
            "b:5\n",
            "b:1\n",
            "There are two roots : -0.219224 and -2.280776\n"
          ]
        }
      ]
    },
    {
      "cell_type": "code",
      "source": [
        ""
      ],
      "metadata": {
        "id": "BPhoQ3Ysn0tS"
      },
      "execution_count": null,
      "outputs": []
    },
    {
      "cell_type": "code",
      "execution_count": null,
      "metadata": {
        "colab": {
          "base_uri": "https://localhost:8080/"
        },
        "id": "WIy6s9TDnnEY",
        "outputId": "bd00b23e-3f2b-4f89-8f42-0d8ae32ce561"
      },
      "outputs": [
        {
          "output_type": "stream",
          "name": "stdout",
          "text": [
            "Enter Decimal Value: 5\n",
            "Convert into:[1] Bibary,[2] Octal[3] Hexadecimal: \n",
            "6\n",
            "Pls. review ur options 1, 2 ,3\n"
          ]
        }
      ],
      "source": [
        "num = int(input(\"Enter Decimal Value: \"))\n",
        "convert = int(input(\"Convert into:[1] Bibary,[2] Octal[3] Hexadecimal: \\n\"))\n",
        "if convert == 1:\n",
        "  print(\"Converted to Binary \\n\", bin(num))\n",
        "elif convert == 2:\n",
        "  print(\"Converted to Octa \\n\", oct(num))\n",
        "elif convert == 3:\n",
        "  print(\"Converted to Hexadecimal \\n\", hex(num))\n",
        "else:\n",
        "  print(\"Pls. review ur options 1, 2 ,3\") \n",
        "\n",
        "  \n"
      ]
    },
    {
      "cell_type": "code",
      "source": [
        ""
      ],
      "metadata": {
        "id": "Wf2clY6ioA0K"
      },
      "execution_count": null,
      "outputs": []
    },
    {
      "cell_type": "code",
      "source": [
        "n = int(input(\"Enter Number:\"))\n",
        "\n",
        "\n",
        "#def isPrime(n):\n",
        "if n==2 or n ==3 :\n",
        "     print(True)\n",
        "    \n",
        "if n<2 or n %2 == 0 or n%3 == 0:\n",
        "     print(False)\n",
        "  \n",
        "for k in range (5,int(sqrt(n)+1),2):\n",
        "    if n % k ==0:\n",
        "     print(False)\n",
        "  \n",
        "    else :\n",
        "      print(True)\n",
        "\n",
        "\n",
        "          "
      ],
      "metadata": {
        "colab": {
          "base_uri": "https://localhost:8080/"
        },
        "id": "ixisKxcWYI9-",
        "outputId": "ccd5fab2-9dcf-4e2f-ade2-8021f78d93be"
      },
      "execution_count": null,
      "outputs": [
        {
          "output_type": "stream",
          "name": "stdout",
          "text": [
            "Enter Number:12\n",
            "False\n"
          ]
        }
      ]
    }
  ]
}