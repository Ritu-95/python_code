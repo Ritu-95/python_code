{
  "nbformat": 4,
  "nbformat_minor": 0,
  "metadata": {
    "colab": {
      "name": "check_prime.ipynb",
      "provenance": [],
      "authorship_tag": "ABX9TyOCOYG5KPc46DyhKIT1/qbt",
      "include_colab_link": true
    },
    "kernelspec": {
      "name": "python3",
      "display_name": "Python 3"
    },
    "language_info": {
      "name": "python"
    }
  },
  "cells": [
    {
      "cell_type": "markdown",
      "metadata": {
        "id": "view-in-github",
        "colab_type": "text"
      },
      "source": [
        "<a href=\"https://colab.research.google.com/github/Ritu-95/python_code/blob/main/check_prime.ipynb\" target=\"_parent\"><img src=\"https://colab.research.google.com/assets/colab-badge.svg\" alt=\"Open In Colab\"/></a>"
      ]
    },
    {
      "cell_type": "code",
      "execution_count": null,
      "metadata": {
        "id": "s1JWq30KXqet"
      },
      "outputs": [],
      "source": [
        "# Check if a number is Prime"
      ]
    },
    {
      "cell_type": "markdown",
      "source": [
        "Check if a number is prime \n"
      ],
      "metadata": {
        "id": "FIgrCwA3X_Mx"
      }
    },
    {
      "cell_type": "code",
      "source": [
        "from math import sqrt"
      ],
      "metadata": {
        "id": "FOQMFi9sYDWU"
      },
      "execution_count": 4,
      "outputs": []
    },
    {
      "cell_type": "code",
      "source": [
        "n = int(input(\"Enter Number:\"))\n",
        "\n",
        "\n",
        "#def isPrime(n):\n",
        "if n==2 or n ==3 :\n",
        "     print(True)\n",
        "    \n",
        "if n<2 or n %2 == 0 or n%3 == 0:\n",
        "     print(False)\n",
        "  \n",
        "for k in range (5,int(sqrt(n)+1),2):\n",
        "    if n % k ==0:\n",
        "     print(False)\n",
        "  \n",
        "    else :\n",
        "      print(True)\n",
        "\n",
        "\n",
        "          "
      ],
      "metadata": {
        "colab": {
          "base_uri": "https://localhost:8080/"
        },
        "id": "ixisKxcWYI9-",
        "outputId": "ccd5fab2-9dcf-4e2f-ade2-8021f78d93be"
      },
      "execution_count": 9,
      "outputs": [
        {
          "output_type": "stream",
          "name": "stdout",
          "text": [
            "Enter Number:12\n",
            "False\n"
          ]
        }
      ]
    },
    {
      "cell_type": "code",
      "source": [
        "# Without Sqrt\n",
        "\n",
        "n = int(input(\"Enter Number:\"))\n",
        "\n",
        "for i in range(2,n):\n",
        "  if n % i == 0:\n",
        "    print(\"Not Prime\")\n",
        "    break\n",
        "else:\n",
        "    print(\"Prime\")    "
      ],
      "metadata": {
        "colab": {
          "base_uri": "https://localhost:8080/"
        },
        "id": "JQ0RJnQIZsT3",
        "outputId": "8849530d-fb58-4823-e190-4f4cc6c61a5a"
      },
      "execution_count": 16,
      "outputs": [
        {
          "output_type": "stream",
          "name": "stdout",
          "text": [
            "Enter Number:4\n",
            "Not Prime\n"
          ]
        }
      ]
    }
  ]
}