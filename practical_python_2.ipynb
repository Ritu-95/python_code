{
  "nbformat": 4,
  "nbformat_minor": 0,
  "metadata": {
    "colab": {
      "name": "practical_python_2.ipynb",
      "provenance": [],
      "authorship_tag": "ABX9TyO7luGoy6sxGsF60eujmcX7",
      "include_colab_link": true
    },
    "kernelspec": {
      "name": "python3",
      "display_name": "Python 3"
    },
    "language_info": {
      "name": "python"
    }
  },
  "cells": [
    {
      "cell_type": "markdown",
      "metadata": {
        "id": "view-in-github",
        "colab_type": "text"
      },
      "source": [
        "<a href=\"https://colab.research.google.com/github/Ritu-95/python_code/blob/main/practical_python_2.ipynb\" target=\"_parent\"><img src=\"https://colab.research.google.com/assets/colab-badge.svg\" alt=\"Open In Colab\"/></a>"
      ]
    },
    {
      "cell_type": "code",
      "execution_count": 6,
      "metadata": {
        "colab": {
          "base_uri": "https://localhost:8080/"
        },
        "id": "JRdwCMGiuFzx",
        "outputId": "6d138fac-d327-4db6-a4e3-db45333f18e8"
      },
      "outputs": [
        {
          "output_type": "stream",
          "name": "stdout",
          "text": [
            "Enter the number :2\n",
            "Logarithm of a number is  0.6931471805599453\n"
          ]
        }
      ],
      "source": [
        "#Python Program to calculate the natural logarithm of any number.\n",
        "\n",
        "import math\n",
        "num = int(input(\"Enter the number :\"))\n",
        "print(\"Logarithm of a number is \",math.log(num))"
      ]
    },
    {
      "cell_type": "code",
      "source": [
        "#Python Program to Display Fibonacci Sequence Using Recursion. \n",
        "n = int(input(\"Enter the number: \"))\n",
        "def fib(n):\n",
        "  a = 0\n",
        "  b = 1\n",
        "  if n == 1:\n",
        "    print(n)\n",
        "\n",
        "  else:\n",
        "    print(a)\n",
        "    print(b)\n",
        "    for i in range(2,n):\n",
        "      c = a + b\n",
        "      a = b \n",
        "      b = c\n",
        "      print(c)\n",
        "\n",
        "fib(n)\n"
      ],
      "metadata": {
        "colab": {
          "base_uri": "https://localhost:8080/"
        },
        "id": "QZ6axkcQu9Pq",
        "outputId": "2ad36fb1-5a68-4c53-a1dd-ff1925d4fe23"
      },
      "execution_count": 13,
      "outputs": [
        {
          "output_type": "stream",
          "name": "stdout",
          "text": [
            "Enter the number: 5\n",
            "0\n",
            "1\n",
            "1\n",
            "2\n",
            "3\n"
          ]
        }
      ]
    },
    {
      "cell_type": "code",
      "source": [
        "# Python Program for Left array rotation.\n",
        "\n",
        "array = [1,2,3,4,5]\n",
        "shift = 2\n",
        "for i in range(0,shift):\n",
        "  temp = array[0] # saveing the First element in temp variable\n",
        "  for j in range(0,len(array)-1):\n",
        "    array[j] = array[j+1]\n",
        "  array[len(array) -1] = temp   # shift remaning array elements one by one\n",
        "\n",
        "#print(\"Array before Rotation:\")\n",
        "print(array)\n",
        "\n"
      ],
      "metadata": {
        "colab": {
          "base_uri": "https://localhost:8080/"
        },
        "id": "EdjxE4OvIN4q",
        "outputId": "1ca66188-f193-4867-f055-ea23bca97523"
      },
      "execution_count": 5,
      "outputs": [
        {
          "output_type": "stream",
          "name": "stdout",
          "text": [
            "[3, 4, 5, 1, 2]\n"
          ]
        }
      ]
    },
    {
      "cell_type": "code",
      "source": [
        "# Python Program to check if given array is Monotonic.\n",
        "\n",
        "# An array is monotonic if it is either monotone increasing or montone decreasing\n",
        "[1,3,6,8]\n",
        "\n",
        "array = [1,2,3,4,8]\n",
        "def monotonic(array):\n",
        "  decreasing = False\n",
        "  if(array[0] > array[1]):\n",
        "    decreasing = True\n",
        "  for i in range (len(array)-1):\n",
        "      if(array[i] < array[i+1] and decreasing  or  array[i] > array[i+1] and not decreasing):\n",
        "        return False\n",
        "  #return True\n",
        "  #print(monotonic([1,2,3,4])) \n",
        "  #print(monotonic([1,2,8,4]))  \n",
        "  print(array)  \n"
      ],
      "metadata": {
        "id": "uHuz1eDptdfi"
      },
      "execution_count": 11,
      "outputs": []
    },
    {
      "cell_type": "code",
      "source": [
        "# Python Program to Remove Punctuation From a String.\n",
        "\n",
        "punctuation = \"!@#$%^&*(){}|.[],?\"\n",
        "\n",
        "str = input(\"Enter string: \")\n",
        "no_punctuation =\"\"\n",
        "for char in str:\n",
        "  if char not in punctuation :\n",
        "    no_punctuation =   no_punctuation+char\n",
        "print(no_punctuation)\n",
        "\n"
      ],
      "metadata": {
        "colab": {
          "base_uri": "https://localhost:8080/"
        },
        "id": "Laa37h2rw2p7",
        "outputId": "8ece0e8a-9d74-4fb3-ab04-7ae861add944"
      },
      "execution_count": 13,
      "outputs": [
        {
          "output_type": "stream",
          "name": "stdout",
          "text": [
            "Enter string: !Hello @\n",
            "Hello \n"
          ]
        }
      ]
    }
  ]
}