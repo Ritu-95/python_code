{
  "nbformat": 4,
  "nbformat_minor": 0,
  "metadata": {
    "colab": {
      "name": "python_practicle_3.ipynb",
      "provenance": [],
      "authorship_tag": "ABX9TyMq0/qKlvzZaKYEAa9Dx5dm",
      "include_colab_link": true
    },
    "kernelspec": {
      "name": "python3",
      "display_name": "Python 3"
    },
    "language_info": {
      "name": "python"
    }
  },
  "cells": [
    {
      "cell_type": "markdown",
      "metadata": {
        "id": "view-in-github",
        "colab_type": "text"
      },
      "source": [
        "<a href=\"https://colab.research.google.com/github/Ritu-95/python_code/blob/main/python_practicle_3.ipynb\" target=\"_parent\"><img src=\"https://colab.research.google.com/assets/colab-badge.svg\" alt=\"Open In Colab\"/></a>"
      ]
    },
    {
      "cell_type": "code",
      "execution_count": 10,
      "metadata": {
        "colab": {
          "base_uri": "https://localhost:8080/"
        },
        "id": "ndTeizGL8sZf",
        "outputId": "a38fd774-4a14-45a2-8c7d-4e057b1f66ee"
      },
      "outputs": [
        {
          "output_type": "stream",
          "name": "stdout",
          "text": [
            "Enter the string:  Python code Hello\n",
            "['Python', 'code', 'Hello']\n",
            "Hello\n",
            "Python\n",
            "code\n"
          ]
        }
      ],
      "source": [
        "# Write a Python Program to Sort Words in Alphabetic Order\n",
        "\n",
        "# input from the user\n",
        "str1 = input(\"Enter the string:  \")\n",
        "\n",
        "#braek the string into list of words\n",
        "words = str1.split()\n",
        "print(words)\n",
        "#sort the list\n",
        "words.sort()\n",
        "#print(words.sort())\n",
        "# display the sorted words\n",
        "for word in words:\n",
        "  print(word)"
      ]
    },
    {
      "cell_type": "code",
      "source": [
        "#  Python Program to Multiply Two Matrices. \n",
        "\n",
        "# 3x3 matrix\n",
        "X = [[12,7,3],\n",
        "    [4 ,5,6],\n",
        "    [7 ,8,9]]\n",
        "# 3x4 matrix\n",
        "Y = [[5,8,1,2],\n",
        "    [6,7,3,0],\n",
        "    [4,5,9,1]]\n",
        "# result is 3x4\n",
        "result = [[0,0,0,0],\n",
        "         [0,0,0,0],\n",
        "         [0,0,0,0]]\n",
        "\n",
        "# iterate through rows of X\n",
        "for i in range(len(X)):\n",
        "   # iterate through columns of Y\n",
        "   for j in range(len(Y[0])):\n",
        "       # iterate through rows of Y\n",
        "       for k in range(len(Y)):\n",
        "           result[i][j] += X[i][k] * Y[k][j]\n",
        "\n",
        "for r in result:\n",
        "   print(r)\n"
      ],
      "metadata": {
        "colab": {
          "base_uri": "https://localhost:8080/"
        },
        "id": "SzqWsME3-T84",
        "outputId": "0155ebec-d1e8-4ae4-bebb-bdf05d1f2082"
      },
      "execution_count": 11,
      "outputs": [
        {
          "output_type": "stream",
          "name": "stdout",
          "text": [
            "[114, 160, 60, 27]\n",
            "[74, 97, 73, 14]\n",
            "[119, 157, 112, 23]\n"
          ]
        }
      ]
    },
    {
      "cell_type": "code",
      "source": [
        "# Disariam\n",
        "def calLength(n):    \n",
        "    length = 0    \n",
        "    while(n != 0):   \n",
        "        length = length + 1    \n",
        "        n = n//10    \n",
        "    return length   \n",
        "     \n",
        "#sumOfDigits() will calculates the sum of digits powered with their respective position    \n",
        "def sumOfDigits(num):    \n",
        "    rem = sum = 0    \n",
        "    len = calLength(num)    \n",
        "        \n",
        "    while(num > 0):    \n",
        "        rem = num%10 \n",
        "        #print(rem)   \n",
        "        sum = sum + (rem**len)    \n",
        "        num = num//10    \n",
        "        len = len - 1    \n",
        "    return sum    \n",
        "      \n",
        "result = 0    \n",
        "     \n",
        "#Displays all disarium numbers between 1 and 100    \n",
        "print(\"Disarium numbers between 1 and 100 are\")    \n",
        "for i in range(1, 101):    \n",
        "    result = sumOfDigits(i)    \n",
        "        \n",
        "    if(result == i):    \n",
        "        print(i)    "
      ],
      "metadata": {
        "colab": {
          "base_uri": "https://localhost:8080/"
        },
        "id": "WoMms-ewXJ4e",
        "outputId": "7a50283b-687e-49cf-9ee7-c1a349b1de2c"
      },
      "execution_count": 18,
      "outputs": [
        {
          "output_type": "stream",
          "name": "stdout",
          "text": [
            "Disarium numbers between 1 and 100 are\n",
            "1\n",
            "2\n",
            "3\n",
            "4\n",
            "5\n",
            "6\n",
            "7\n",
            "8\n",
            "9\n",
            "89\n"
          ]
        }
      ]
    },
    {
      "cell_type": "code",
      "source": [
        "# Python Program to check if a string contains any special  character. \n",
        "\n",
        "import re \n",
        "\n",
        "str =input(\"Enter the String :\")\n",
        "regex = re.compile('[@_!#$%^&*()<>?{}:]')\n",
        "\n",
        "if(regex.search(str) == None):\n",
        "  print(\"No Special characters present in string\")\n",
        "else:\n",
        "   print(\"Special characters present in string\")\n"
      ],
      "metadata": {
        "colab": {
          "base_uri": "https://localhost:8080/"
        },
        "id": "jGqCLYfCZp4w",
        "outputId": "9310a71a-04b8-4522-dd07-3a78c0f12e12"
      },
      "execution_count": 20,
      "outputs": [
        {
          "output_type": "stream",
          "name": "stdout",
          "text": [
            "Enter the String :hello world\n",
            "No Special characters present in string\n"
          ]
        }
      ]
    },
    {
      "cell_type": "code",
      "source": [
        "# Python program to sort Python Dictionaries by Key or Value\n",
        "\n",
        "myDict = {'jack':5,'Will':14, 'Yoyo':10}\n",
        "\n",
        "sortbykey = {k:v for k,v in sorted(myDict.items())}\n",
        "sortbyval1 = {k:v for k,v in sorted(myDict.items(),key = lambda v: v[1])}\n",
        "\n",
        "print(sortbykey)\n",
        "print(sortbyval1)\n",
        "\n",
        "\n"
      ],
      "metadata": {
        "colab": {
          "base_uri": "https://localhost:8080/"
        },
        "id": "ZakOoDBDdRFk",
        "outputId": "046a4e0e-9c66-4005-87a5-0782481f74c9"
      },
      "execution_count": 28,
      "outputs": [
        {
          "output_type": "stream",
          "name": "stdout",
          "text": [
            "{'Will': 14, 'Yoyo': 10, 'jack': 5}\n",
            "{'jack': 5, 'Yoyo': 10, 'Will': 14}\n"
          ]
        }
      ]
    },
    {
      "cell_type": "code",
      "source": [
        ""
      ],
      "metadata": {
        "id": "Pj6OtSuxGS-t"
      },
      "execution_count": null,
      "outputs": []
    }
  ]
}