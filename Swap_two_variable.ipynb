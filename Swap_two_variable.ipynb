{
  "nbformat": 4,
  "nbformat_minor": 0,
  "metadata": {
    "colab": {
      "name": "Swap_two_variable.ipynb",
      "provenance": [],
      "authorship_tag": "ABX9TyPjCf7GyECwZw5Vz/DrKwX+",
      "include_colab_link": true
    },
    "kernelspec": {
      "name": "python3",
      "display_name": "Python 3"
    },
    "language_info": {
      "name": "python"
    }
  },
  "cells": [
    {
      "cell_type": "markdown",
      "metadata": {
        "id": "view-in-github",
        "colab_type": "text"
      },
      "source": [
        "<a href=\"https://colab.research.google.com/github/Ritu-95/python_code/blob/main/Swap_two_variable.ipynb\" target=\"_parent\"><img src=\"https://colab.research.google.com/assets/colab-badge.svg\" alt=\"Open In Colab\"/></a>"
      ]
    },
    {
      "cell_type": "code",
      "execution_count": 2,
      "metadata": {
        "colab": {
          "base_uri": "https://localhost:8080/"
        },
        "id": "zSQCr9Pq4Cla",
        "outputId": "ce2a59de-d446-457e-e620-8681b4b91e89"
      },
      "outputs": [
        {
          "output_type": "stream",
          "name": "stdout",
          "text": [
            "a:2\n",
            "b:3\n",
            "value of a is : 2\n",
            "value of b  is : 3\n",
            "value of a after swaping is : 3\n",
            "value of b after swaping is : 2\n"
          ]
        }
      ],
      "source": [
        "# Swaping two variables without using temp variable\n",
        "a = int(input(\"a:\"))\n",
        "b = int(input(\"b:\"))\n",
        "\n",
        "print(\"value of a is :\",a)\n",
        "\n",
        "print(\"value of b  is :\",b)\n",
        "\n",
        "a = a+b\n",
        "b = a-b\n",
        "a = a-b\n",
        "print(\"value of a after swaping is :\",a)\n",
        "\n",
        "print(\"value of b after swaping is :\",b)\n"
      ]
    }
  ]
}