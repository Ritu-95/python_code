{
  "nbformat": 4,
  "nbformat_minor": 0,
  "metadata": {
    "colab": {
      "name": "roots_of_quadratic_equation.ipynb",
      "provenance": [],
      "collapsed_sections": [],
      "authorship_tag": "ABX9TyOuv+AqXrxYOjntF2x1r2jf",
      "include_colab_link": true
    },
    "kernelspec": {
      "name": "python3",
      "display_name": "Python 3"
    },
    "language_info": {
      "name": "python"
    }
  },
  "cells": [
    {
      "cell_type": "markdown",
      "metadata": {
        "id": "view-in-github",
        "colab_type": "text"
      },
      "source": [
        "<a href=\"https://colab.research.google.com/github/Ritu-95/python_code/blob/main/roots_of_quadratic_equation.ipynb\" target=\"_parent\"><img src=\"https://colab.research.google.com/assets/colab-badge.svg\" alt=\"Open In Colab\"/></a>"
      ]
    },
    {
      "cell_type": "code",
      "execution_count": null,
      "metadata": {
        "id": "nf1pa6OmcDzG"
      },
      "outputs": [],
      "source": [
        "import math\n"
      ]
    },
    {
      "cell_type": "code",
      "source": [
        "#  input quadratic equation variablea a.b.c\n",
        "\n",
        "a = float(input(\"a:\"))\n",
        "b = float(input(\"b:\"))\n",
        "c = float(input(\"b:\"))\n",
        "\n",
        "delta = math.pow(b,2)-(4*a*c)\n",
        "\n",
        "if delta > 0:\n",
        "  # no. of roots are 2\n",
        "  x = (((-b) + math.sqrt(delta))/(2*a))\n",
        "  x1 = (((-b) - math.sqrt(delta))/(2*a))\n",
        "  print(\"There are two roots : %f and %f\" % (x,x1))\n",
        "elif delta == 0:\n",
        "  x = (-b)/(2*a)\n",
        "  print (\"there is only one root : \", x)\n",
        "else:\n",
        "  # number of roots 0 , imaginary\n",
        "  print(\"No roots , delta <0 \")  \n",
        "\n",
        "  \n",
        "\n",
        "   \n",
        "  "
      ],
      "metadata": {
        "id": "cnsXUwjrcNY4",
        "colab": {
          "base_uri": "https://localhost:8080/"
        },
        "outputId": "4103b5e9-d7c4-4358-89ff-be230366f98b"
      },
      "execution_count": 4,
      "outputs": [
        {
          "output_type": "stream",
          "name": "stdout",
          "text": [
            "a:2\n",
            "b:5\n",
            "b:1\n",
            "There are two roots : -0.219224 and -2.280776\n"
          ]
        }
      ]
    },
    {
      "cell_type": "code",
      "source": [
        ""
      ],
      "metadata": {
        "id": "pWyvK7-eiGEt"
      },
      "execution_count": null,
      "outputs": []
    },
    {
      "cell_type": "markdown",
      "source": [
        "# New Section"
      ],
      "metadata": {
        "id": "GVM0OpESj7c5"
      }
    }
  ]
}