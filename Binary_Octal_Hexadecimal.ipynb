{
  "nbformat": 4,
  "nbformat_minor": 0,
  "metadata": {
    "colab": {
      "name": "Binary/Octal/Hexadecimal.ipynb",
      "provenance": [],
      "authorship_tag": "ABX9TyMWA+MJCMdJXEtYo8Ro6ja3",
      "include_colab_link": true
    },
    "kernelspec": {
      "name": "python3",
      "display_name": "Python 3"
    },
    "language_info": {
      "name": "python"
    }
  },
  "cells": [
    {
      "cell_type": "markdown",
      "metadata": {
        "id": "view-in-github",
        "colab_type": "text"
      },
      "source": [
        "<a href=\"https://colab.research.google.com/github/Ritu-95/python_code/blob/main/Binary_Octal_Hexadecimal.ipynb\" target=\"_parent\"><img src=\"https://colab.research.google.com/assets/colab-badge.svg\" alt=\"Open In Colab\"/></a>"
      ]
    },
    {
      "cell_type": "code",
      "execution_count": 5,
      "metadata": {
        "colab": {
          "base_uri": "https://localhost:8080/"
        },
        "id": "WIy6s9TDnnEY",
        "outputId": "bd00b23e-3f2b-4f89-8f42-0d8ae32ce561"
      },
      "outputs": [
        {
          "output_type": "stream",
          "name": "stdout",
          "text": [
            "Enter Decimal Value: 5\n",
            "Convert into:[1] Bibary,[2] Octal[3] Hexadecimal: \n",
            "6\n",
            "Pls. review ur options 1, 2 ,3\n"
          ]
        }
      ],
      "source": [
        "num = int(input(\"Enter Decimal Value: \"))\n",
        "convert = int(input(\"Convert into:[1] Bibary,[2] Octal[3] Hexadecimal: \\n\"))\n",
        "if convert == 1:\n",
        "  print(\"Converted to Binary \\n\", bin(num))\n",
        "elif convert == 2:\n",
        "  print(\"Converted to Octa \\n\", oct(num))\n",
        "elif convert == 3:\n",
        "  print(\"Converted to Hexadecimal \\n\", hex(num))\n",
        "else:\n",
        "  print(\"Pls. review ur options 1, 2 ,3\") \n",
        "\n",
        "  \n"
      ]
    }
  ]
}