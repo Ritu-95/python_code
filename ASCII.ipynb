{
  "nbformat": 4,
  "nbformat_minor": 0,
  "metadata": {
    "colab": {
      "name": "ASCII.ipynb",
      "provenance": [],
      "authorship_tag": "ABX9TyMU8pMUeWVblfLNgAGOBdu+",
      "include_colab_link": true
    },
    "kernelspec": {
      "name": "python3",
      "display_name": "Python 3"
    },
    "language_info": {
      "name": "python"
    }
  },
  "cells": [
    {
      "cell_type": "markdown",
      "metadata": {
        "id": "view-in-github",
        "colab_type": "text"
      },
      "source": [
        "<a href=\"https://colab.research.google.com/github/Ritu-95/python_code/blob/main/ASCII.ipynb\" target=\"_parent\"><img src=\"https://colab.research.google.com/assets/colab-badge.svg\" alt=\"Open In Colab\"/></a>"
      ]
    },
    {
      "cell_type": "code",
      "execution_count": 5,
      "metadata": {
        "colab": {
          "base_uri": "https://localhost:8080/"
        },
        "id": "DJ66s52nrRer",
        "outputId": "0619daa8-2dd8-4006-d380-efa06849b7bd"
      },
      "outputs": [
        {
          "output_type": "stream",
          "name": "stdout",
          "text": [
            "Enter the Character: W\n",
            "ASCII value for character is :  87\n"
          ]
        }
      ],
      "source": [
        "# ASCII  American Standard code for information Interchange.\n",
        "#It is a numeric value given to different characters and symbols, for computers to store and manipulate.\n",
        "char = input(\"Enter the Character: \")\n",
        "for i in range(65,99):\n",
        "  print(\"ASCII value for character is : \",ord(char))\n",
        "  break\n"
      ]
    }
  ]
}